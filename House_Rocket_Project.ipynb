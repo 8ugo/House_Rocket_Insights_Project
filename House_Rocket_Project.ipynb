{
 "cells": [
  {
   "cell_type": "markdown",
   "id": "7102202d",
   "metadata": {},
   "source": [
    "# Loading Data"
   ]
  },
  {
   "cell_type": "code",
   "execution_count": 100,
   "id": "a2aa94ce",
   "metadata": {
    "ExecuteTime": {
     "end_time": "2022-11-14T16:34:50.282017Z",
     "start_time": "2022-11-14T16:34:50.265034Z"
    }
   },
   "outputs": [],
   "source": [
    "import pandas as pd\n",
    "import numpy as np\n",
    "import streamlit as st\n",
    "from matplotlib import pyplot as plt\n",
    "import seaborn as sns\n",
    "import plotly.express as px"
   ]
  },
  {
   "cell_type": "code",
   "execution_count": 101,
   "id": "ecd11adb",
   "metadata": {
    "ExecuteTime": {
     "end_time": "2022-11-14T16:34:50.345841Z",
     "start_time": "2022-11-14T16:34:50.282987Z"
    }
   },
   "outputs": [],
   "source": [
    "data = pd.read_csv('kc_house_data.csv')"
   ]
  },
  {
   "cell_type": "markdown",
   "id": "fb252613",
   "metadata": {
    "ExecuteTime": {
     "end_time": "2022-11-08T17:29:15.009262Z",
     "start_time": "2022-11-08T17:29:14.994303Z"
    }
   },
   "source": [
    "## Limpeza dos dados"
   ]
  },
  {
   "cell_type": "code",
   "execution_count": 102,
   "id": "b4ba681a",
   "metadata": {
    "ExecuteTime": {
     "end_time": "2022-11-14T16:34:50.375764Z",
     "start_time": "2022-11-14T16:34:50.346814Z"
    }
   },
   "outputs": [],
   "source": [
    "## Alterando o formato de data\n",
    "\n",
    "data['date'] = pd.to_datetime(data['date'])\n",
    "data['year'] = data['date'].dt.year\n",
    "data['month'] = data['date'].dt.month\n",
    "\n",
    "## Removendo dados duplicados \n",
    "\n",
    "data = data.drop_duplicates(subset=['id'], keep='last')"
   ]
  },
  {
   "cell_type": "markdown",
   "id": "3a38ccb7",
   "metadata": {},
   "source": [
    "## Criando uma nova condição para os imóveis\n",
    "- Se o valor do imóvel for maior que 540000 ele é high_level\n",
    "- Se o valor do imóvel for menor que 540000 ele é low_level"
   ]
  },
  {
   "cell_type": "code",
   "execution_count": 103,
   "id": "2ef3b65e",
   "metadata": {
    "ExecuteTime": {
     "end_time": "2022-11-14T16:34:50.391696Z",
     "start_time": "2022-11-14T16:34:50.377732Z"
    }
   },
   "outputs": [],
   "source": [
    "data['level'] = 'standard'\n",
    "data.loc[data['price'] > 540000, 'level'] = 'high_level'\n",
    "data.loc[data['price'] < 540000, 'level'] = 'low_level'"
   ]
  },
  {
   "cell_type": "markdown",
   "id": "6b858a13",
   "metadata": {},
   "source": [
    "## Criando uma nova coluna pela idade do imóvel \n",
    "- Se o valor da coluna “date” for maior que 2014-01-01 => ‘new_house’\n",
    "- Se o valor da coluna “date” for menor que 2014-01-01 => ‘old_house’"
   ]
  },
  {
   "cell_type": "markdown",
   "id": "63615ffa",
   "metadata": {
    "ExecuteTime": {
     "end_time": "2022-11-08T21:32:56.465822Z",
     "start_time": "2022-11-08T21:32:56.448867Z"
    }
   },
   "source": [
    "## Criando uma nova coluna para \"Estação\""
   ]
  },
  {
   "cell_type": "code",
   "execution_count": 104,
   "id": "88901d02",
   "metadata": {
    "ExecuteTime": {
     "end_time": "2022-11-14T16:34:50.406655Z",
     "start_time": "2022-11-14T16:34:50.393690Z"
    }
   },
   "outputs": [],
   "source": [
    " data['season'] = data['month'].apply(lambda x: 'summer' if (x > 5) & (x < 8) else\n",
    "    'spring' if (x > 2) & (x < 5) else\n",
    "    'fall' if (x > 8) & (x < 12) else\n",
    "    'winter')"
   ]
  },
  {
   "cell_type": "code",
   "execution_count": 105,
   "id": "84a09de1",
   "metadata": {
    "ExecuteTime": {
     "end_time": "2022-11-14T16:34:53.167146Z",
     "start_time": "2022-11-14T16:34:50.407652Z"
    }
   },
   "outputs": [],
   "source": [
    "data['house_age'] = data['date'].apply ( lambda x: 'new_house' \n",
    "                                        if x > pd.to_datetime('2014', format='%Y') \n",
    "                                        else 'old_house')"
   ]
  },
  {
   "cell_type": "markdown",
   "id": "2329b5f3",
   "metadata": {
    "ExecuteTime": {
     "end_time": "2022-11-08T20:44:51.266858Z",
     "start_time": "2022-11-08T20:44:51.255861Z"
    }
   },
   "source": [
    "## Criando uma nova coluna de porão"
   ]
  },
  {
   "cell_type": "code",
   "execution_count": 106,
   "id": "dacd1674",
   "metadata": {
    "ExecuteTime": {
     "end_time": "2022-11-14T16:34:53.182969Z",
     "start_time": "2022-11-14T16:34:53.167146Z"
    }
   },
   "outputs": [],
   "source": [
    "data['basement'] = data['sqft_basement'].apply (lambda x: 'nao' if x == 0 else\n",
    "                                             'sim')"
   ]
  },
  {
   "cell_type": "markdown",
   "id": "5c00890b",
   "metadata": {},
   "source": [
    "## Delete as colunas: “sqft_living15”, “sqft_lot15” e \"house_age\""
   ]
  },
  {
   "cell_type": "code",
   "execution_count": 107,
   "id": "447a56cb",
   "metadata": {
    "ExecuteTime": {
     "end_time": "2022-11-14T16:34:53.198534Z",
     "start_time": "2022-11-14T16:34:53.183967Z"
    }
   },
   "outputs": [],
   "source": [
    "data = data.drop(['sqft_living15', 'sqft_lot15','house_age'], axis=1)"
   ]
  },
  {
   "cell_type": "markdown",
   "id": "9160e4fa",
   "metadata": {
    "ExecuteTime": {
     "end_time": "2022-11-08T17:44:05.826194Z",
     "start_time": "2022-11-08T17:44:05.809268Z"
    }
   },
   "source": [
    "## Modificando o TIPO a Coluna “yr_built” para DATE"
   ]
  },
  {
   "cell_type": "code",
   "execution_count": 108,
   "id": "0f90eefa",
   "metadata": {
    "ExecuteTime": {
     "end_time": "2022-11-14T16:34:53.213530Z",
     "start_time": "2022-11-14T16:34:53.199531Z"
    }
   },
   "outputs": [],
   "source": [
    "data['yr_built'] = pd.to_datetime(data['yr_built'], format='%Y')"
   ]
  },
  {
   "cell_type": "markdown",
   "id": "2feabeb5",
   "metadata": {
    "ExecuteTime": {
     "end_time": "2022-11-08T17:44:41.794818Z",
     "start_time": "2022-11-08T17:44:41.779172Z"
    }
   },
   "source": [
    "## Modificando o TIPO a Coluna “yr_renovated” para DATE"
   ]
  },
  {
   "cell_type": "code",
   "execution_count": 109,
   "id": "22a8d590",
   "metadata": {
    "ExecuteTime": {
     "end_time": "2022-11-14T16:34:55.910549Z",
     "start_time": "2022-11-14T16:34:53.216486Z"
    }
   },
   "outputs": [],
   "source": [
    "data['yr_renovated'] = data['yr_renovated'].apply(\n",
    "    lambda x: pd.to_datetime('1970', format='%Y')\n",
    "    if x == 0 else pd.to_datetime(x, format='%Y'))"
   ]
  },
  {
   "cell_type": "markdown",
   "id": "3977abb4",
   "metadata": {
    "ExecuteTime": {
     "end_time": "2022-11-08T17:46:38.025993Z",
     "start_time": "2022-11-08T17:46:38.016015Z"
    }
   },
   "source": [
    "## Modificando um outlier de 33 quartos assumindo ser um erro de digitação para 3 quartos"
   ]
  },
  {
   "cell_type": "code",
   "execution_count": 110,
   "id": "9cbb123c",
   "metadata": {
    "ExecuteTime": {
     "end_time": "2022-11-14T16:34:55.926284Z",
     "start_time": "2022-11-14T16:34:55.910549Z"
    }
   },
   "outputs": [],
   "source": [
    "data.loc[data['bedrooms'] == 33, 'bedrooms'] = 3"
   ]
  },
  {
   "cell_type": "markdown",
   "id": "afc45543",
   "metadata": {
    "ExecuteTime": {
     "end_time": "2022-11-08T18:03:13.070957Z",
     "start_time": "2022-11-08T18:03:13.039756Z"
    }
   },
   "source": [
    "# EDA"
   ]
  },
  {
   "cell_type": "markdown",
   "id": "ad7e2391",
   "metadata": {},
   "source": [
    "### H1 - Casas com vista pra água são 30% mais caras, na média"
   ]
  },
  {
   "cell_type": "code",
   "execution_count": 111,
   "id": "4b0cf14a",
   "metadata": {
    "ExecuteTime": {
     "end_time": "2022-11-14T16:34:55.941243Z",
     "start_time": "2022-11-14T16:34:55.927281Z"
    }
   },
   "outputs": [
    {
     "name": "stdout",
     "output_type": "stream",
     "text": [
      "O preço médio de imóveis com vista pra água é 1661876.02\n"
     ]
    }
   ],
   "source": [
    "# Descobrir a média de preço das casas com vista pro mar\n",
    "\n",
    "vista_pra_água = np.round(data.loc[data['waterfront'] ==1, 'price'].mean(),2)\n",
    "print ('O preço médio de imóveis com vista pra água é %.2f' %vista_pra_água)"
   ]
  },
  {
   "cell_type": "code",
   "execution_count": 112,
   "id": "397c9ef8",
   "metadata": {
    "ExecuteTime": {
     "end_time": "2022-11-14T16:34:55.957201Z",
     "start_time": "2022-11-14T16:34:55.943239Z"
    },
    "scrolled": true
   },
   "outputs": [
    {
     "name": "stdout",
     "output_type": "stream",
     "text": [
      "O preço médio de imóveis sem vista pra água é 533066.46\n"
     ]
    }
   ],
   "source": [
    "imóveis_sem_vista_pra_água = np.round(data.loc[data['waterfront'] ==0, 'price'].mean(),2)\n",
    "print ('O preço médio de imóveis sem vista pra água é %.2f' %imóveis_sem_vista_pra_água)"
   ]
  },
  {
   "cell_type": "markdown",
   "id": "aba530c9",
   "metadata": {
    "ExecuteTime": {
     "end_time": "2022-11-08T19:00:06.620861Z",
     "start_time": "2022-11-08T19:00:06.614849Z"
    }
   },
   "source": [
    "- A H1 é verdadeira"
   ]
  },
  {
   "cell_type": "markdown",
   "id": "3729523c",
   "metadata": {},
   "source": [
    "### H2 - Imóveis com data de construção menor que 1955, são 50% mais baratos, na média."
   ]
  },
  {
   "cell_type": "code",
   "execution_count": 113,
   "id": "70810464",
   "metadata": {
    "ExecuteTime": {
     "end_time": "2022-11-14T16:34:55.972162Z",
     "start_time": "2022-11-14T16:34:55.959198Z"
    }
   },
   "outputs": [
    {
     "name": "stdout",
     "output_type": "stream",
     "text": [
      "A media dos imóveis é de 540100.38\n"
     ]
    }
   ],
   "source": [
    "casas_de_1995 = data.loc[data['yr_built'] < '1955-01-01' , 'price'].mean()\n",
    "print ('A media dos imóveis é de %.2f'%casas_de_1995)"
   ]
  },
  {
   "cell_type": "code",
   "execution_count": 114,
   "id": "de4167d1",
   "metadata": {
    "ExecuteTime": {
     "end_time": "2022-11-14T16:34:55.987123Z",
     "start_time": "2022-11-14T16:34:55.974156Z"
    }
   },
   "outputs": [
    {
     "name": "stdout",
     "output_type": "stream",
     "text": [
      "A media dos imóveis é de 543873.83\n"
     ]
    }
   ],
   "source": [
    "casas_depois_1995 = data.loc[data['yr_built'] > '1955-01-01' , 'price'].mean()\n",
    "print ('A media dos imóveis é de %.2f'%casas_depois_1995)"
   ]
  },
  {
   "cell_type": "markdown",
   "id": "7eb9aae3",
   "metadata": {},
   "source": [
    "- A H2 é falsa"
   ]
  },
  {
   "cell_type": "markdown",
   "id": "53f926be",
   "metadata": {
    "ExecuteTime": {
     "end_time": "2022-11-08T20:34:18.864704Z",
     "start_time": "2022-11-08T20:34:18.854731Z"
    }
   },
   "source": [
    "### H3 - Imóveis sem porão que possuem sqrt_lot, são 50% maiores do que com porão."
   ]
  },
  {
   "cell_type": "code",
   "execution_count": 115,
   "id": "82c891b9",
   "metadata": {
    "ExecuteTime": {
     "end_time": "2022-11-14T16:34:56.003104Z",
     "start_time": "2022-11-14T16:34:55.988120Z"
    },
    "scrolled": true
   },
   "outputs": [
    {
     "name": "stdout",
     "output_type": "stream",
     "text": [
      "  basement      sqft_lot\n",
      "0      nao  16325.928774\n",
      "1      sim  13295.994537\n"
     ]
    }
   ],
   "source": [
    "h3 = data[['sqft_lot','basement']].groupby('basement').mean().reset_index()\n",
    "print (h3)"
   ]
  },
  {
   "cell_type": "markdown",
   "id": "5c95aa5c",
   "metadata": {
    "ExecuteTime": {
     "end_time": "2022-11-08T21:13:51.927362Z",
     "start_time": "2022-11-08T21:13:51.922376Z"
    }
   },
   "source": [
    "- A H3 é falsa pois os imóveis sem porão não são 50% maiores que os com porão"
   ]
  },
  {
   "cell_type": "markdown",
   "id": "8ae63077",
   "metadata": {},
   "source": [
    "### H4 - O crescimento do preço dos imóveis YoY ( Year over Year ) é de 10%"
   ]
  },
  {
   "cell_type": "code",
   "execution_count": 116,
   "id": "aa439353",
   "metadata": {
    "ExecuteTime": {
     "end_time": "2022-11-14T16:34:56.018038Z",
     "start_time": "2022-11-14T16:34:56.004075Z"
    }
   },
   "outputs": [],
   "source": [
    "h4 = data[['year','price']].groupby('year').mean().reset_index()"
   ]
  },
  {
   "cell_type": "code",
   "execution_count": 117,
   "id": "0283f79b",
   "metadata": {
    "ExecuteTime": {
     "end_time": "2022-11-14T16:34:56.033997Z",
     "start_time": "2022-11-14T16:34:56.020033Z"
    }
   },
   "outputs": [
    {
     "name": "stdout",
     "output_type": "stream",
     "text": [
      "   year          price\n",
      "0  2014  541334.572732\n",
      "1  2015  542304.265777\n"
     ]
    }
   ],
   "source": [
    "print(h4)"
   ]
  },
  {
   "cell_type": "markdown",
   "id": "485aae07",
   "metadata": {
    "ExecuteTime": {
     "end_time": "2022-11-08T21:11:36.158519Z",
     "start_time": "2022-11-08T21:11:36.139571Z"
    }
   },
   "source": [
    "- H4 é falsa pois o YoY é de menos de 1% em média"
   ]
  },
  {
   "cell_type": "markdown",
   "id": "e7c4a082",
   "metadata": {},
   "source": [
    "### H5 - Imóveis com 3 banheiros tem um crescimento MoM ( Month over Month ) de 15%"
   ]
  },
  {
   "cell_type": "code",
   "execution_count": 118,
   "id": "7124e1f6",
   "metadata": {
    "ExecuteTime": {
     "end_time": "2022-11-14T16:34:56.049981Z",
     "start_time": "2022-11-14T16:34:56.034993Z"
    }
   },
   "outputs": [
    {
     "name": "stdout",
     "output_type": "stream",
     "text": [
      "    month          price\n",
      "0       1  672923.170732\n",
      "1       2  696714.422222\n",
      "2       3  768495.096154\n",
      "3       4  709751.988235\n",
      "4       5  691097.629213\n",
      "5       6  764084.285714\n",
      "6       7  741405.042857\n",
      "7       8  743506.451613\n",
      "8       9  650464.700000\n",
      "9      10  646302.353846\n",
      "10     11  679910.465116\n",
      "11     12  728341.187500\n"
     ]
    }
   ],
   "source": [
    "h5 = data[['month','price']].loc[data['bathrooms'] == 3].groupby('month').mean().reset_index()\n",
    "print(h5)"
   ]
  },
  {
   "cell_type": "markdown",
   "id": "b7b8c53f",
   "metadata": {},
   "source": [
    "- H5 é falsa pois não há um aumento de 15% MoM nos imóveis com 3 banheiros"
   ]
  },
  {
   "cell_type": "markdown",
   "id": "73d1eb03",
   "metadata": {
    "ExecuteTime": {
     "end_time": "2022-11-08T21:30:52.593221Z",
     "start_time": "2022-11-08T21:30:52.572936Z"
    }
   },
   "source": [
    "# Questões do CEO\n",
    "- Quais imóveis devo comprar e qual valor devo pagar por eles?\n",
    "- Quando devo vende-lo e por quanto devo vender?\n"
   ]
  },
  {
   "cell_type": "markdown",
   "id": "8ade7419",
   "metadata": {},
   "source": [
    "## Questão 1 "
   ]
  },
  {
   "cell_type": "code",
   "execution_count": 119,
   "id": "91c0f10b",
   "metadata": {
    "ExecuteTime": {
     "end_time": "2022-11-14T16:34:56.065911Z",
     "start_time": "2022-11-14T16:34:56.050952Z"
    }
   },
   "outputs": [],
   "source": [
    "data['sqrt_price'] = data['price']/data['sqft_lot']"
   ]
  },
  {
   "cell_type": "code",
   "execution_count": 121,
   "id": "acfcb5cc",
   "metadata": {
    "ExecuteTime": {
     "end_time": "2022-11-14T16:34:56.113805Z",
     "start_time": "2022-11-14T16:34:56.098823Z"
    },
    "scrolled": false
   },
   "outputs": [
    {
     "data": {
      "text/html": [
       "<div>\n",
       "<style scoped>\n",
       "    .dataframe tbody tr th:only-of-type {\n",
       "        vertical-align: middle;\n",
       "    }\n",
       "\n",
       "    .dataframe tbody tr th {\n",
       "        vertical-align: top;\n",
       "    }\n",
       "\n",
       "    .dataframe thead th {\n",
       "        text-align: right;\n",
       "    }\n",
       "</style>\n",
       "<table border=\"1\" class=\"dataframe\">\n",
       "  <thead>\n",
       "    <tr style=\"text-align: right;\">\n",
       "      <th></th>\n",
       "      <th>zipcode</th>\n",
       "      <th>price_zipcode</th>\n",
       "    </tr>\n",
       "  </thead>\n",
       "  <tbody>\n",
       "    <tr>\n",
       "      <th>0</th>\n",
       "      <td>98001</td>\n",
       "      <td>27.248677</td>\n",
       "    </tr>\n",
       "    <tr>\n",
       "      <th>1</th>\n",
       "      <td>98002</td>\n",
       "      <td>30.223655</td>\n",
       "    </tr>\n",
       "    <tr>\n",
       "      <th>2</th>\n",
       "      <td>98003</td>\n",
       "      <td>30.123342</td>\n",
       "    </tr>\n",
       "    <tr>\n",
       "      <th>3</th>\n",
       "      <td>98004</td>\n",
       "      <td>94.998653</td>\n",
       "    </tr>\n",
       "    <tr>\n",
       "      <th>4</th>\n",
       "      <td>98005</td>\n",
       "      <td>55.622924</td>\n",
       "    </tr>\n",
       "    <tr>\n",
       "      <th>...</th>\n",
       "      <td>...</td>\n",
       "      <td>...</td>\n",
       "    </tr>\n",
       "    <tr>\n",
       "      <th>65</th>\n",
       "      <td>98177</td>\n",
       "      <td>60.063652</td>\n",
       "    </tr>\n",
       "    <tr>\n",
       "      <th>66</th>\n",
       "      <td>98178</td>\n",
       "      <td>38.844792</td>\n",
       "    </tr>\n",
       "    <tr>\n",
       "      <th>67</th>\n",
       "      <td>98188</td>\n",
       "      <td>30.177515</td>\n",
       "    </tr>\n",
       "    <tr>\n",
       "      <th>68</th>\n",
       "      <td>98198</td>\n",
       "      <td>31.250000</td>\n",
       "    </tr>\n",
       "    <tr>\n",
       "      <th>69</th>\n",
       "      <td>98199</td>\n",
       "      <td>138.986111</td>\n",
       "    </tr>\n",
       "  </tbody>\n",
       "</table>\n",
       "<p>70 rows × 2 columns</p>\n",
       "</div>"
      ],
      "text/plain": [
       "    zipcode  price_zipcode\n",
       "0     98001      27.248677\n",
       "1     98002      30.223655\n",
       "2     98003      30.123342\n",
       "3     98004      94.998653\n",
       "4     98005      55.622924\n",
       "..      ...            ...\n",
       "65    98177      60.063652\n",
       "66    98178      38.844792\n",
       "67    98188      30.177515\n",
       "68    98198      31.250000\n",
       "69    98199     138.986111\n",
       "\n",
       "[70 rows x 2 columns]"
      ]
     },
     "execution_count": 121,
     "metadata": {},
     "output_type": "execute_result"
    }
   ],
   "source": [
    "df = data[['zipcode','sqrt_price']].groupby('zipcode').median().reset_index()\n",
    "df.columns=['zipcode','price_zipcode']\n",
    "df"
   ]
  },
  {
   "cell_type": "code",
   "execution_count": 122,
   "id": "22ad91b5",
   "metadata": {
    "ExecuteTime": {
     "end_time": "2022-11-14T16:34:56.159661Z",
     "start_time": "2022-11-14T16:34:56.114779Z"
    }
   },
   "outputs": [
    {
     "data": {
      "text/html": [
       "<div>\n",
       "<style scoped>\n",
       "    .dataframe tbody tr th:only-of-type {\n",
       "        vertical-align: middle;\n",
       "    }\n",
       "\n",
       "    .dataframe tbody tr th {\n",
       "        vertical-align: top;\n",
       "    }\n",
       "\n",
       "    .dataframe thead th {\n",
       "        text-align: right;\n",
       "    }\n",
       "</style>\n",
       "<table border=\"1\" class=\"dataframe\">\n",
       "  <thead>\n",
       "    <tr style=\"text-align: right;\">\n",
       "      <th></th>\n",
       "      <th>id</th>\n",
       "      <th>date</th>\n",
       "      <th>price</th>\n",
       "      <th>bedrooms</th>\n",
       "      <th>bathrooms</th>\n",
       "      <th>sqft_living</th>\n",
       "      <th>sqft_lot</th>\n",
       "      <th>floors</th>\n",
       "      <th>waterfront</th>\n",
       "      <th>view</th>\n",
       "      <th>...</th>\n",
       "      <th>zipcode</th>\n",
       "      <th>lat</th>\n",
       "      <th>long</th>\n",
       "      <th>year</th>\n",
       "      <th>month</th>\n",
       "      <th>level</th>\n",
       "      <th>season</th>\n",
       "      <th>basement</th>\n",
       "      <th>sqrt_price</th>\n",
       "      <th>price_zipcode</th>\n",
       "    </tr>\n",
       "  </thead>\n",
       "  <tbody>\n",
       "    <tr>\n",
       "      <th>0</th>\n",
       "      <td>7129300520</td>\n",
       "      <td>2014-10-13</td>\n",
       "      <td>221900.0</td>\n",
       "      <td>3</td>\n",
       "      <td>1.00</td>\n",
       "      <td>1180</td>\n",
       "      <td>5650</td>\n",
       "      <td>1.0</td>\n",
       "      <td>0</td>\n",
       "      <td>0</td>\n",
       "      <td>...</td>\n",
       "      <td>98178</td>\n",
       "      <td>47.5112</td>\n",
       "      <td>-122.257</td>\n",
       "      <td>2014</td>\n",
       "      <td>10</td>\n",
       "      <td>low_level</td>\n",
       "      <td>fall</td>\n",
       "      <td>nao</td>\n",
       "      <td>39.274336</td>\n",
       "      <td>38.844792</td>\n",
       "    </tr>\n",
       "    <tr>\n",
       "      <th>1</th>\n",
       "      <td>4060000240</td>\n",
       "      <td>2014-06-23</td>\n",
       "      <td>205425.0</td>\n",
       "      <td>2</td>\n",
       "      <td>1.00</td>\n",
       "      <td>880</td>\n",
       "      <td>6780</td>\n",
       "      <td>1.0</td>\n",
       "      <td>0</td>\n",
       "      <td>0</td>\n",
       "      <td>...</td>\n",
       "      <td>98178</td>\n",
       "      <td>47.5009</td>\n",
       "      <td>-122.248</td>\n",
       "      <td>2014</td>\n",
       "      <td>6</td>\n",
       "      <td>low_level</td>\n",
       "      <td>summer</td>\n",
       "      <td>nao</td>\n",
       "      <td>30.298673</td>\n",
       "      <td>38.844792</td>\n",
       "    </tr>\n",
       "    <tr>\n",
       "      <th>2</th>\n",
       "      <td>4058801670</td>\n",
       "      <td>2014-07-17</td>\n",
       "      <td>445000.0</td>\n",
       "      <td>3</td>\n",
       "      <td>2.25</td>\n",
       "      <td>2100</td>\n",
       "      <td>8201</td>\n",
       "      <td>1.0</td>\n",
       "      <td>0</td>\n",
       "      <td>2</td>\n",
       "      <td>...</td>\n",
       "      <td>98178</td>\n",
       "      <td>47.5091</td>\n",
       "      <td>-122.244</td>\n",
       "      <td>2014</td>\n",
       "      <td>7</td>\n",
       "      <td>low_level</td>\n",
       "      <td>summer</td>\n",
       "      <td>sim</td>\n",
       "      <td>54.261675</td>\n",
       "      <td>38.844792</td>\n",
       "    </tr>\n",
       "    <tr>\n",
       "      <th>3</th>\n",
       "      <td>2976800796</td>\n",
       "      <td>2014-09-25</td>\n",
       "      <td>236000.0</td>\n",
       "      <td>3</td>\n",
       "      <td>1.00</td>\n",
       "      <td>1300</td>\n",
       "      <td>5898</td>\n",
       "      <td>1.0</td>\n",
       "      <td>0</td>\n",
       "      <td>0</td>\n",
       "      <td>...</td>\n",
       "      <td>98178</td>\n",
       "      <td>47.5053</td>\n",
       "      <td>-122.255</td>\n",
       "      <td>2014</td>\n",
       "      <td>9</td>\n",
       "      <td>low_level</td>\n",
       "      <td>fall</td>\n",
       "      <td>nao</td>\n",
       "      <td>40.013564</td>\n",
       "      <td>38.844792</td>\n",
       "    </tr>\n",
       "    <tr>\n",
       "      <th>4</th>\n",
       "      <td>6874200960</td>\n",
       "      <td>2015-02-27</td>\n",
       "      <td>170000.0</td>\n",
       "      <td>2</td>\n",
       "      <td>1.00</td>\n",
       "      <td>860</td>\n",
       "      <td>5265</td>\n",
       "      <td>1.0</td>\n",
       "      <td>0</td>\n",
       "      <td>0</td>\n",
       "      <td>...</td>\n",
       "      <td>98178</td>\n",
       "      <td>47.5048</td>\n",
       "      <td>-122.272</td>\n",
       "      <td>2015</td>\n",
       "      <td>2</td>\n",
       "      <td>low_level</td>\n",
       "      <td>winter</td>\n",
       "      <td>nao</td>\n",
       "      <td>32.288699</td>\n",
       "      <td>38.844792</td>\n",
       "    </tr>\n",
       "    <tr>\n",
       "      <th>...</th>\n",
       "      <td>...</td>\n",
       "      <td>...</td>\n",
       "      <td>...</td>\n",
       "      <td>...</td>\n",
       "      <td>...</td>\n",
       "      <td>...</td>\n",
       "      <td>...</td>\n",
       "      <td>...</td>\n",
       "      <td>...</td>\n",
       "      <td>...</td>\n",
       "      <td>...</td>\n",
       "      <td>...</td>\n",
       "      <td>...</td>\n",
       "      <td>...</td>\n",
       "      <td>...</td>\n",
       "      <td>...</td>\n",
       "      <td>...</td>\n",
       "      <td>...</td>\n",
       "      <td>...</td>\n",
       "      <td>...</td>\n",
       "      <td>...</td>\n",
       "    </tr>\n",
       "    <tr>\n",
       "      <th>21431</th>\n",
       "      <td>2525049086</td>\n",
       "      <td>2014-10-03</td>\n",
       "      <td>2720000.0</td>\n",
       "      <td>4</td>\n",
       "      <td>3.25</td>\n",
       "      <td>3990</td>\n",
       "      <td>18115</td>\n",
       "      <td>2.0</td>\n",
       "      <td>0</td>\n",
       "      <td>0</td>\n",
       "      <td>...</td>\n",
       "      <td>98039</td>\n",
       "      <td>47.6177</td>\n",
       "      <td>-122.229</td>\n",
       "      <td>2014</td>\n",
       "      <td>10</td>\n",
       "      <td>high_level</td>\n",
       "      <td>fall</td>\n",
       "      <td>nao</td>\n",
       "      <td>150.151808</td>\n",
       "      <td>115.777805</td>\n",
       "    </tr>\n",
       "    <tr>\n",
       "      <th>21432</th>\n",
       "      <td>2525049113</td>\n",
       "      <td>2014-07-25</td>\n",
       "      <td>1950000.0</td>\n",
       "      <td>4</td>\n",
       "      <td>3.50</td>\n",
       "      <td>4065</td>\n",
       "      <td>18713</td>\n",
       "      <td>2.0</td>\n",
       "      <td>0</td>\n",
       "      <td>0</td>\n",
       "      <td>...</td>\n",
       "      <td>98039</td>\n",
       "      <td>47.6209</td>\n",
       "      <td>-122.237</td>\n",
       "      <td>2014</td>\n",
       "      <td>7</td>\n",
       "      <td>high_level</td>\n",
       "      <td>summer</td>\n",
       "      <td>nao</td>\n",
       "      <td>104.205632</td>\n",
       "      <td>115.777805</td>\n",
       "    </tr>\n",
       "    <tr>\n",
       "      <th>21433</th>\n",
       "      <td>3262300485</td>\n",
       "      <td>2015-04-21</td>\n",
       "      <td>2250000.0</td>\n",
       "      <td>5</td>\n",
       "      <td>5.25</td>\n",
       "      <td>3410</td>\n",
       "      <td>8118</td>\n",
       "      <td>2.0</td>\n",
       "      <td>0</td>\n",
       "      <td>0</td>\n",
       "      <td>...</td>\n",
       "      <td>98039</td>\n",
       "      <td>47.6295</td>\n",
       "      <td>-122.236</td>\n",
       "      <td>2015</td>\n",
       "      <td>4</td>\n",
       "      <td>high_level</td>\n",
       "      <td>spring</td>\n",
       "      <td>nao</td>\n",
       "      <td>277.161863</td>\n",
       "      <td>115.777805</td>\n",
       "    </tr>\n",
       "    <tr>\n",
       "      <th>21434</th>\n",
       "      <td>6447300365</td>\n",
       "      <td>2014-11-13</td>\n",
       "      <td>2900000.0</td>\n",
       "      <td>5</td>\n",
       "      <td>4.00</td>\n",
       "      <td>5190</td>\n",
       "      <td>14600</td>\n",
       "      <td>2.0</td>\n",
       "      <td>0</td>\n",
       "      <td>1</td>\n",
       "      <td>...</td>\n",
       "      <td>98039</td>\n",
       "      <td>47.6102</td>\n",
       "      <td>-122.225</td>\n",
       "      <td>2014</td>\n",
       "      <td>11</td>\n",
       "      <td>high_level</td>\n",
       "      <td>fall</td>\n",
       "      <td>nao</td>\n",
       "      <td>198.630137</td>\n",
       "      <td>115.777805</td>\n",
       "    </tr>\n",
       "    <tr>\n",
       "      <th>21435</th>\n",
       "      <td>3262300818</td>\n",
       "      <td>2015-02-27</td>\n",
       "      <td>1865000.0</td>\n",
       "      <td>4</td>\n",
       "      <td>3.75</td>\n",
       "      <td>3790</td>\n",
       "      <td>8797</td>\n",
       "      <td>2.0</td>\n",
       "      <td>0</td>\n",
       "      <td>0</td>\n",
       "      <td>...</td>\n",
       "      <td>98039</td>\n",
       "      <td>47.6351</td>\n",
       "      <td>-122.236</td>\n",
       "      <td>2015</td>\n",
       "      <td>2</td>\n",
       "      <td>high_level</td>\n",
       "      <td>winter</td>\n",
       "      <td>sim</td>\n",
       "      <td>212.004092</td>\n",
       "      <td>115.777805</td>\n",
       "    </tr>\n",
       "  </tbody>\n",
       "</table>\n",
       "<p>21436 rows × 26 columns</p>\n",
       "</div>"
      ],
      "text/plain": [
       "               id       date      price  bedrooms  bathrooms  sqft_living  \\\n",
       "0      7129300520 2014-10-13   221900.0         3       1.00         1180   \n",
       "1      4060000240 2014-06-23   205425.0         2       1.00          880   \n",
       "2      4058801670 2014-07-17   445000.0         3       2.25         2100   \n",
       "3      2976800796 2014-09-25   236000.0         3       1.00         1300   \n",
       "4      6874200960 2015-02-27   170000.0         2       1.00          860   \n",
       "...           ...        ...        ...       ...        ...          ...   \n",
       "21431  2525049086 2014-10-03  2720000.0         4       3.25         3990   \n",
       "21432  2525049113 2014-07-25  1950000.0         4       3.50         4065   \n",
       "21433  3262300485 2015-04-21  2250000.0         5       5.25         3410   \n",
       "21434  6447300365 2014-11-13  2900000.0         5       4.00         5190   \n",
       "21435  3262300818 2015-02-27  1865000.0         4       3.75         3790   \n",
       "\n",
       "       sqft_lot  floors  waterfront  view  ...  zipcode      lat     long  \\\n",
       "0          5650     1.0           0     0  ...    98178  47.5112 -122.257   \n",
       "1          6780     1.0           0     0  ...    98178  47.5009 -122.248   \n",
       "2          8201     1.0           0     2  ...    98178  47.5091 -122.244   \n",
       "3          5898     1.0           0     0  ...    98178  47.5053 -122.255   \n",
       "4          5265     1.0           0     0  ...    98178  47.5048 -122.272   \n",
       "...         ...     ...         ...   ...  ...      ...      ...      ...   \n",
       "21431     18115     2.0           0     0  ...    98039  47.6177 -122.229   \n",
       "21432     18713     2.0           0     0  ...    98039  47.6209 -122.237   \n",
       "21433      8118     2.0           0     0  ...    98039  47.6295 -122.236   \n",
       "21434     14600     2.0           0     1  ...    98039  47.6102 -122.225   \n",
       "21435      8797     2.0           0     0  ...    98039  47.6351 -122.236   \n",
       "\n",
       "       year month       level  season  basement  sqrt_price  price_zipcode  \n",
       "0      2014    10   low_level    fall       nao   39.274336      38.844792  \n",
       "1      2014     6   low_level  summer       nao   30.298673      38.844792  \n",
       "2      2014     7   low_level  summer       sim   54.261675      38.844792  \n",
       "3      2014     9   low_level    fall       nao   40.013564      38.844792  \n",
       "4      2015     2   low_level  winter       nao   32.288699      38.844792  \n",
       "...     ...   ...         ...     ...       ...         ...            ...  \n",
       "21431  2014    10  high_level    fall       nao  150.151808     115.777805  \n",
       "21432  2014     7  high_level  summer       nao  104.205632     115.777805  \n",
       "21433  2015     4  high_level  spring       nao  277.161863     115.777805  \n",
       "21434  2014    11  high_level    fall       nao  198.630137     115.777805  \n",
       "21435  2015     2  high_level  winter       sim  212.004092     115.777805  \n",
       "\n",
       "[21436 rows x 26 columns]"
      ]
     },
     "execution_count": 122,
     "metadata": {},
     "output_type": "execute_result"
    }
   ],
   "source": [
    "df1 = pd.merge(data, df, on='zipcode', how='inner')\n",
    "df1"
   ]
  },
  {
   "cell_type": "code",
   "execution_count": 137,
   "id": "d7cb62f9",
   "metadata": {
    "ExecuteTime": {
     "end_time": "2022-11-14T17:02:14.376787Z",
     "start_time": "2022-11-14T17:02:14.095653Z"
    },
    "scrolled": true
   },
   "outputs": [],
   "source": [
    "# Criando a coluna \"to_buy\"\n",
    "df1['to_buy'] = df1[['sqrt_price','price_zipcode','condition']].apply(lambda x: 'buy' if (x['sqrt_price'] < x['price_zipcode']) & (x['condition']>=3)\n",
    "                                                          else 'not_buy', axis=1)"
   ]
  },
  {
   "cell_type": "code",
   "execution_count": 124,
   "id": "0d90dc7a",
   "metadata": {
    "ExecuteTime": {
     "end_time": "2022-11-14T16:34:56.476259Z",
     "start_time": "2022-11-14T16:34:56.462310Z"
    }
   },
   "outputs": [
    {
     "data": {
      "text/html": [
       "<div>\n",
       "<style scoped>\n",
       "    .dataframe tbody tr th:only-of-type {\n",
       "        vertical-align: middle;\n",
       "    }\n",
       "\n",
       "    .dataframe tbody tr th {\n",
       "        vertical-align: top;\n",
       "    }\n",
       "\n",
       "    .dataframe thead th {\n",
       "        text-align: right;\n",
       "    }\n",
       "</style>\n",
       "<table border=\"1\" class=\"dataframe\">\n",
       "  <thead>\n",
       "    <tr style=\"text-align: right;\">\n",
       "      <th></th>\n",
       "      <th>condition</th>\n",
       "      <th>to_buy</th>\n",
       "    </tr>\n",
       "  </thead>\n",
       "  <tbody>\n",
       "    <tr>\n",
       "      <th>0</th>\n",
       "      <td>3</td>\n",
       "      <td>not_buy</td>\n",
       "    </tr>\n",
       "    <tr>\n",
       "      <th>1</th>\n",
       "      <td>4</td>\n",
       "      <td>buy</td>\n",
       "    </tr>\n",
       "    <tr>\n",
       "      <th>2</th>\n",
       "      <td>3</td>\n",
       "      <td>not_buy</td>\n",
       "    </tr>\n",
       "    <tr>\n",
       "      <th>3</th>\n",
       "      <td>3</td>\n",
       "      <td>not_buy</td>\n",
       "    </tr>\n",
       "    <tr>\n",
       "      <th>4</th>\n",
       "      <td>3</td>\n",
       "      <td>buy</td>\n",
       "    </tr>\n",
       "    <tr>\n",
       "      <th>...</th>\n",
       "      <td>...</td>\n",
       "      <td>...</td>\n",
       "    </tr>\n",
       "    <tr>\n",
       "      <th>21431</th>\n",
       "      <td>4</td>\n",
       "      <td>not_buy</td>\n",
       "    </tr>\n",
       "    <tr>\n",
       "      <th>21432</th>\n",
       "      <td>4</td>\n",
       "      <td>buy</td>\n",
       "    </tr>\n",
       "    <tr>\n",
       "      <th>21433</th>\n",
       "      <td>3</td>\n",
       "      <td>not_buy</td>\n",
       "    </tr>\n",
       "    <tr>\n",
       "      <th>21434</th>\n",
       "      <td>3</td>\n",
       "      <td>not_buy</td>\n",
       "    </tr>\n",
       "    <tr>\n",
       "      <th>21435</th>\n",
       "      <td>3</td>\n",
       "      <td>not_buy</td>\n",
       "    </tr>\n",
       "  </tbody>\n",
       "</table>\n",
       "<p>21436 rows × 2 columns</p>\n",
       "</div>"
      ],
      "text/plain": [
       "       condition   to_buy\n",
       "0              3  not_buy\n",
       "1              4      buy\n",
       "2              3  not_buy\n",
       "3              3  not_buy\n",
       "4              3      buy\n",
       "...          ...      ...\n",
       "21431          4  not_buy\n",
       "21432          4      buy\n",
       "21433          3  not_buy\n",
       "21434          3  not_buy\n",
       "21435          3  not_buy\n",
       "\n",
       "[21436 rows x 2 columns]"
      ]
     },
     "execution_count": 124,
     "metadata": {},
     "output_type": "execute_result"
    }
   ],
   "source": [
    "df1[['condition','to_buy']]"
   ]
  },
  {
   "cell_type": "code",
   "execution_count": 125,
   "id": "db87ae85",
   "metadata": {
    "ExecuteTime": {
     "end_time": "2022-11-14T16:34:56.492216Z",
     "start_time": "2022-11-14T16:34:56.477257Z"
    }
   },
   "outputs": [
    {
     "data": {
      "text/plain": [
       "10538"
      ]
     },
     "execution_count": 125,
     "metadata": {},
     "output_type": "execute_result"
    }
   ],
   "source": [
    "df1[df1['to_buy']=='buy'].shape[0]"
   ]
  },
  {
   "cell_type": "markdown",
   "id": "ce900a59",
   "metadata": {},
   "source": [
    "- 1. O CEO pode comprar 10538 imóveis."
   ]
  },
  {
   "cell_type": "markdown",
   "id": "dc343de9",
   "metadata": {},
   "source": [
    "# Questão 2"
   ]
  },
  {
   "cell_type": "code",
   "execution_count": 126,
   "id": "0e5efb6a",
   "metadata": {
    "ExecuteTime": {
     "end_time": "2022-11-14T16:34:56.507185Z",
     "start_time": "2022-11-14T16:34:56.494234Z"
    }
   },
   "outputs": [],
   "source": [
    "resell_season = df1[['sqrt_price','zipcode','season']].groupby(['zipcode','season']).median().reset_index()\n",
    "resell_season.columns = ['zipcode','season','price_to_sell']"
   ]
  },
  {
   "cell_type": "code",
   "execution_count": 127,
   "id": "49ef3318",
   "metadata": {
    "ExecuteTime": {
     "end_time": "2022-11-14T16:34:56.554050Z",
     "start_time": "2022-11-14T16:34:56.511166Z"
    }
   },
   "outputs": [
    {
     "data": {
      "text/html": [
       "<div>\n",
       "<style scoped>\n",
       "    .dataframe tbody tr th:only-of-type {\n",
       "        vertical-align: middle;\n",
       "    }\n",
       "\n",
       "    .dataframe tbody tr th {\n",
       "        vertical-align: top;\n",
       "    }\n",
       "\n",
       "    .dataframe thead th {\n",
       "        text-align: right;\n",
       "    }\n",
       "</style>\n",
       "<table border=\"1\" class=\"dataframe\">\n",
       "  <thead>\n",
       "    <tr style=\"text-align: right;\">\n",
       "      <th></th>\n",
       "      <th>id</th>\n",
       "      <th>date</th>\n",
       "      <th>price</th>\n",
       "      <th>bedrooms</th>\n",
       "      <th>bathrooms</th>\n",
       "      <th>sqft_living</th>\n",
       "      <th>sqft_lot</th>\n",
       "      <th>floors</th>\n",
       "      <th>waterfront</th>\n",
       "      <th>view</th>\n",
       "      <th>...</th>\n",
       "      <th>long</th>\n",
       "      <th>year</th>\n",
       "      <th>month</th>\n",
       "      <th>level</th>\n",
       "      <th>season</th>\n",
       "      <th>basement</th>\n",
       "      <th>sqrt_price</th>\n",
       "      <th>price_zipcode</th>\n",
       "      <th>to_buy</th>\n",
       "      <th>price_to_sell</th>\n",
       "    </tr>\n",
       "  </thead>\n",
       "  <tbody>\n",
       "    <tr>\n",
       "      <th>0</th>\n",
       "      <td>7129300520</td>\n",
       "      <td>2014-10-13</td>\n",
       "      <td>221900.0</td>\n",
       "      <td>3</td>\n",
       "      <td>1.00</td>\n",
       "      <td>1180</td>\n",
       "      <td>5650</td>\n",
       "      <td>1.0</td>\n",
       "      <td>0</td>\n",
       "      <td>0</td>\n",
       "      <td>...</td>\n",
       "      <td>-122.257</td>\n",
       "      <td>2014</td>\n",
       "      <td>10</td>\n",
       "      <td>low_level</td>\n",
       "      <td>fall</td>\n",
       "      <td>nao</td>\n",
       "      <td>39.274336</td>\n",
       "      <td>38.844792</td>\n",
       "      <td>not_buy</td>\n",
       "      <td>39.427507</td>\n",
       "    </tr>\n",
       "    <tr>\n",
       "      <th>1</th>\n",
       "      <td>2976800796</td>\n",
       "      <td>2014-09-25</td>\n",
       "      <td>236000.0</td>\n",
       "      <td>3</td>\n",
       "      <td>1.00</td>\n",
       "      <td>1300</td>\n",
       "      <td>5898</td>\n",
       "      <td>1.0</td>\n",
       "      <td>0</td>\n",
       "      <td>0</td>\n",
       "      <td>...</td>\n",
       "      <td>-122.255</td>\n",
       "      <td>2014</td>\n",
       "      <td>9</td>\n",
       "      <td>low_level</td>\n",
       "      <td>fall</td>\n",
       "      <td>nao</td>\n",
       "      <td>40.013564</td>\n",
       "      <td>38.844792</td>\n",
       "      <td>not_buy</td>\n",
       "      <td>39.427507</td>\n",
       "    </tr>\n",
       "    <tr>\n",
       "      <th>2</th>\n",
       "      <td>1180003090</td>\n",
       "      <td>2014-09-06</td>\n",
       "      <td>190000.0</td>\n",
       "      <td>2</td>\n",
       "      <td>1.00</td>\n",
       "      <td>630</td>\n",
       "      <td>6000</td>\n",
       "      <td>1.0</td>\n",
       "      <td>0</td>\n",
       "      <td>0</td>\n",
       "      <td>...</td>\n",
       "      <td>-122.221</td>\n",
       "      <td>2014</td>\n",
       "      <td>9</td>\n",
       "      <td>low_level</td>\n",
       "      <td>fall</td>\n",
       "      <td>nao</td>\n",
       "      <td>31.666667</td>\n",
       "      <td>38.844792</td>\n",
       "      <td>buy</td>\n",
       "      <td>39.427507</td>\n",
       "    </tr>\n",
       "    <tr>\n",
       "      <th>3</th>\n",
       "      <td>2171400197</td>\n",
       "      <td>2014-09-18</td>\n",
       "      <td>350000.0</td>\n",
       "      <td>5</td>\n",
       "      <td>3.00</td>\n",
       "      <td>2520</td>\n",
       "      <td>5500</td>\n",
       "      <td>1.0</td>\n",
       "      <td>0</td>\n",
       "      <td>0</td>\n",
       "      <td>...</td>\n",
       "      <td>-122.255</td>\n",
       "      <td>2014</td>\n",
       "      <td>9</td>\n",
       "      <td>low_level</td>\n",
       "      <td>fall</td>\n",
       "      <td>sim</td>\n",
       "      <td>63.636364</td>\n",
       "      <td>38.844792</td>\n",
       "      <td>not_buy</td>\n",
       "      <td>39.427507</td>\n",
       "    </tr>\n",
       "    <tr>\n",
       "      <th>4</th>\n",
       "      <td>1180002378</td>\n",
       "      <td>2014-09-26</td>\n",
       "      <td>299000.0</td>\n",
       "      <td>4</td>\n",
       "      <td>2.50</td>\n",
       "      <td>1950</td>\n",
       "      <td>3000</td>\n",
       "      <td>2.0</td>\n",
       "      <td>0</td>\n",
       "      <td>0</td>\n",
       "      <td>...</td>\n",
       "      <td>-122.226</td>\n",
       "      <td>2014</td>\n",
       "      <td>9</td>\n",
       "      <td>low_level</td>\n",
       "      <td>fall</td>\n",
       "      <td>nao</td>\n",
       "      <td>99.666667</td>\n",
       "      <td>38.844792</td>\n",
       "      <td>not_buy</td>\n",
       "      <td>39.427507</td>\n",
       "    </tr>\n",
       "    <tr>\n",
       "      <th>...</th>\n",
       "      <td>...</td>\n",
       "      <td>...</td>\n",
       "      <td>...</td>\n",
       "      <td>...</td>\n",
       "      <td>...</td>\n",
       "      <td>...</td>\n",
       "      <td>...</td>\n",
       "      <td>...</td>\n",
       "      <td>...</td>\n",
       "      <td>...</td>\n",
       "      <td>...</td>\n",
       "      <td>...</td>\n",
       "      <td>...</td>\n",
       "      <td>...</td>\n",
       "      <td>...</td>\n",
       "      <td>...</td>\n",
       "      <td>...</td>\n",
       "      <td>...</td>\n",
       "      <td>...</td>\n",
       "      <td>...</td>\n",
       "      <td>...</td>\n",
       "    </tr>\n",
       "    <tr>\n",
       "      <th>21431</th>\n",
       "      <td>3262300555</td>\n",
       "      <td>2014-07-08</td>\n",
       "      <td>2458000.0</td>\n",
       "      <td>4</td>\n",
       "      <td>5.25</td>\n",
       "      <td>6500</td>\n",
       "      <td>14986</td>\n",
       "      <td>2.0</td>\n",
       "      <td>0</td>\n",
       "      <td>0</td>\n",
       "      <td>...</td>\n",
       "      <td>-122.236</td>\n",
       "      <td>2014</td>\n",
       "      <td>7</td>\n",
       "      <td>high_level</td>\n",
       "      <td>summer</td>\n",
       "      <td>sim</td>\n",
       "      <td>164.019752</td>\n",
       "      <td>115.777805</td>\n",
       "      <td>not_buy</td>\n",
       "      <td>94.358870</td>\n",
       "    </tr>\n",
       "    <tr>\n",
       "      <th>21432</th>\n",
       "      <td>2525049263</td>\n",
       "      <td>2014-07-09</td>\n",
       "      <td>2680000.0</td>\n",
       "      <td>5</td>\n",
       "      <td>3.00</td>\n",
       "      <td>4290</td>\n",
       "      <td>20445</td>\n",
       "      <td>2.0</td>\n",
       "      <td>0</td>\n",
       "      <td>0</td>\n",
       "      <td>...</td>\n",
       "      <td>-122.239</td>\n",
       "      <td>2014</td>\n",
       "      <td>7</td>\n",
       "      <td>high_level</td>\n",
       "      <td>summer</td>\n",
       "      <td>nao</td>\n",
       "      <td>131.083394</td>\n",
       "      <td>115.777805</td>\n",
       "      <td>not_buy</td>\n",
       "      <td>94.358870</td>\n",
       "    </tr>\n",
       "    <tr>\n",
       "      <th>21433</th>\n",
       "      <td>5427100150</td>\n",
       "      <td>2014-06-26</td>\n",
       "      <td>1410000.0</td>\n",
       "      <td>4</td>\n",
       "      <td>2.25</td>\n",
       "      <td>3250</td>\n",
       "      <td>16684</td>\n",
       "      <td>2.0</td>\n",
       "      <td>0</td>\n",
       "      <td>0</td>\n",
       "      <td>...</td>\n",
       "      <td>-122.229</td>\n",
       "      <td>2014</td>\n",
       "      <td>6</td>\n",
       "      <td>high_level</td>\n",
       "      <td>summer</td>\n",
       "      <td>nao</td>\n",
       "      <td>84.512107</td>\n",
       "      <td>115.777805</td>\n",
       "      <td>buy</td>\n",
       "      <td>94.358870</td>\n",
       "    </tr>\n",
       "    <tr>\n",
       "      <th>21434</th>\n",
       "      <td>2425049066</td>\n",
       "      <td>2014-06-16</td>\n",
       "      <td>1920000.0</td>\n",
       "      <td>4</td>\n",
       "      <td>2.50</td>\n",
       "      <td>3070</td>\n",
       "      <td>34412</td>\n",
       "      <td>1.0</td>\n",
       "      <td>0</td>\n",
       "      <td>3</td>\n",
       "      <td>...</td>\n",
       "      <td>-122.240</td>\n",
       "      <td>2014</td>\n",
       "      <td>6</td>\n",
       "      <td>high_level</td>\n",
       "      <td>summer</td>\n",
       "      <td>sim</td>\n",
       "      <td>55.794490</td>\n",
       "      <td>115.777805</td>\n",
       "      <td>buy</td>\n",
       "      <td>94.358870</td>\n",
       "    </tr>\n",
       "    <tr>\n",
       "      <th>21435</th>\n",
       "      <td>2525049113</td>\n",
       "      <td>2014-07-25</td>\n",
       "      <td>1950000.0</td>\n",
       "      <td>4</td>\n",
       "      <td>3.50</td>\n",
       "      <td>4065</td>\n",
       "      <td>18713</td>\n",
       "      <td>2.0</td>\n",
       "      <td>0</td>\n",
       "      <td>0</td>\n",
       "      <td>...</td>\n",
       "      <td>-122.237</td>\n",
       "      <td>2014</td>\n",
       "      <td>7</td>\n",
       "      <td>high_level</td>\n",
       "      <td>summer</td>\n",
       "      <td>nao</td>\n",
       "      <td>104.205632</td>\n",
       "      <td>115.777805</td>\n",
       "      <td>buy</td>\n",
       "      <td>94.358870</td>\n",
       "    </tr>\n",
       "  </tbody>\n",
       "</table>\n",
       "<p>21436 rows × 28 columns</p>\n",
       "</div>"
      ],
      "text/plain": [
       "               id       date      price  bedrooms  bathrooms  sqft_living  \\\n",
       "0      7129300520 2014-10-13   221900.0         3       1.00         1180   \n",
       "1      2976800796 2014-09-25   236000.0         3       1.00         1300   \n",
       "2      1180003090 2014-09-06   190000.0         2       1.00          630   \n",
       "3      2171400197 2014-09-18   350000.0         5       3.00         2520   \n",
       "4      1180002378 2014-09-26   299000.0         4       2.50         1950   \n",
       "...           ...        ...        ...       ...        ...          ...   \n",
       "21431  3262300555 2014-07-08  2458000.0         4       5.25         6500   \n",
       "21432  2525049263 2014-07-09  2680000.0         5       3.00         4290   \n",
       "21433  5427100150 2014-06-26  1410000.0         4       2.25         3250   \n",
       "21434  2425049066 2014-06-16  1920000.0         4       2.50         3070   \n",
       "21435  2525049113 2014-07-25  1950000.0         4       3.50         4065   \n",
       "\n",
       "       sqft_lot  floors  waterfront  view  ...     long  year  month  \\\n",
       "0          5650     1.0           0     0  ... -122.257  2014     10   \n",
       "1          5898     1.0           0     0  ... -122.255  2014      9   \n",
       "2          6000     1.0           0     0  ... -122.221  2014      9   \n",
       "3          5500     1.0           0     0  ... -122.255  2014      9   \n",
       "4          3000     2.0           0     0  ... -122.226  2014      9   \n",
       "...         ...     ...         ...   ...  ...      ...   ...    ...   \n",
       "21431     14986     2.0           0     0  ... -122.236  2014      7   \n",
       "21432     20445     2.0           0     0  ... -122.239  2014      7   \n",
       "21433     16684     2.0           0     0  ... -122.229  2014      6   \n",
       "21434     34412     1.0           0     3  ... -122.240  2014      6   \n",
       "21435     18713     2.0           0     0  ... -122.237  2014      7   \n",
       "\n",
       "            level  season basement  sqrt_price  price_zipcode   to_buy  \\\n",
       "0       low_level    fall      nao   39.274336      38.844792  not_buy   \n",
       "1       low_level    fall      nao   40.013564      38.844792  not_buy   \n",
       "2       low_level    fall      nao   31.666667      38.844792      buy   \n",
       "3       low_level    fall      sim   63.636364      38.844792  not_buy   \n",
       "4       low_level    fall      nao   99.666667      38.844792  not_buy   \n",
       "...           ...     ...      ...         ...            ...      ...   \n",
       "21431  high_level  summer      sim  164.019752     115.777805  not_buy   \n",
       "21432  high_level  summer      nao  131.083394     115.777805  not_buy   \n",
       "21433  high_level  summer      nao   84.512107     115.777805      buy   \n",
       "21434  high_level  summer      sim   55.794490     115.777805      buy   \n",
       "21435  high_level  summer      nao  104.205632     115.777805      buy   \n",
       "\n",
       "       price_to_sell  \n",
       "0          39.427507  \n",
       "1          39.427507  \n",
       "2          39.427507  \n",
       "3          39.427507  \n",
       "4          39.427507  \n",
       "...              ...  \n",
       "21431      94.358870  \n",
       "21432      94.358870  \n",
       "21433      94.358870  \n",
       "21434      94.358870  \n",
       "21435      94.358870  \n",
       "\n",
       "[21436 rows x 28 columns]"
      ]
     },
     "execution_count": 127,
     "metadata": {},
     "output_type": "execute_result"
    }
   ],
   "source": [
    "df2 = pd.merge(df1, resell_season, on=['zipcode','season'])\n",
    "df2"
   ]
  },
  {
   "cell_type": "code",
   "execution_count": 128,
   "id": "e89e847e",
   "metadata": {
    "ExecuteTime": {
     "end_time": "2022-11-14T16:34:56.907761Z",
     "start_time": "2022-11-14T16:34:56.555021Z"
    }
   },
   "outputs": [],
   "source": [
    "df2['season_to_sell'] = np.round(\n",
    "    df2[['sqrt_price', 'price_to_sell',\n",
    "         'sqft_lot']].apply(lambda x:\n",
    "                            (x['price_to_sell'] * x['sqft_lot'] * 1.3)\n",
    "                            if x['price_to_sell'] > x['sqrt_price'] else\n",
    "                            (x['price_to_sell'] * x['sqft_lot'] * 1.1),\n",
    "                            axis=1), 2)"
   ]
  },
  {
   "cell_type": "code",
   "execution_count": 129,
   "id": "69a1dbcb",
   "metadata": {
    "ExecuteTime": {
     "end_time": "2022-11-14T16:34:56.939014Z",
     "start_time": "2022-11-14T16:34:56.909120Z"
    }
   },
   "outputs": [
    {
     "data": {
      "text/html": [
       "<div>\n",
       "<style scoped>\n",
       "    .dataframe tbody tr th:only-of-type {\n",
       "        vertical-align: middle;\n",
       "    }\n",
       "\n",
       "    .dataframe tbody tr th {\n",
       "        vertical-align: top;\n",
       "    }\n",
       "\n",
       "    .dataframe thead th {\n",
       "        text-align: right;\n",
       "    }\n",
       "</style>\n",
       "<table border=\"1\" class=\"dataframe\">\n",
       "  <thead>\n",
       "    <tr style=\"text-align: right;\">\n",
       "      <th></th>\n",
       "      <th>id</th>\n",
       "      <th>date</th>\n",
       "      <th>price</th>\n",
       "      <th>bedrooms</th>\n",
       "      <th>bathrooms</th>\n",
       "      <th>sqft_living</th>\n",
       "      <th>sqft_lot</th>\n",
       "      <th>floors</th>\n",
       "      <th>waterfront</th>\n",
       "      <th>view</th>\n",
       "      <th>...</th>\n",
       "      <th>year</th>\n",
       "      <th>month</th>\n",
       "      <th>level</th>\n",
       "      <th>season</th>\n",
       "      <th>basement</th>\n",
       "      <th>sqrt_price</th>\n",
       "      <th>price_zipcode</th>\n",
       "      <th>to_buy</th>\n",
       "      <th>price_to_sell</th>\n",
       "      <th>season_to_sell</th>\n",
       "    </tr>\n",
       "  </thead>\n",
       "  <tbody>\n",
       "    <tr>\n",
       "      <th>2</th>\n",
       "      <td>1180003090</td>\n",
       "      <td>2014-09-06</td>\n",
       "      <td>190000.0</td>\n",
       "      <td>2</td>\n",
       "      <td>1.00</td>\n",
       "      <td>630</td>\n",
       "      <td>6000</td>\n",
       "      <td>1.0</td>\n",
       "      <td>0</td>\n",
       "      <td>0</td>\n",
       "      <td>...</td>\n",
       "      <td>2014</td>\n",
       "      <td>9</td>\n",
       "      <td>low_level</td>\n",
       "      <td>fall</td>\n",
       "      <td>nao</td>\n",
       "      <td>31.666667</td>\n",
       "      <td>38.844792</td>\n",
       "      <td>buy</td>\n",
       "      <td>39.427507</td>\n",
       "      <td>307534.55</td>\n",
       "    </tr>\n",
       "    <tr>\n",
       "      <th>6</th>\n",
       "      <td>179000350</td>\n",
       "      <td>2014-11-05</td>\n",
       "      <td>194000.0</td>\n",
       "      <td>3</td>\n",
       "      <td>1.50</td>\n",
       "      <td>1010</td>\n",
       "      <td>5000</td>\n",
       "      <td>1.0</td>\n",
       "      <td>0</td>\n",
       "      <td>0</td>\n",
       "      <td>...</td>\n",
       "      <td>2014</td>\n",
       "      <td>11</td>\n",
       "      <td>low_level</td>\n",
       "      <td>fall</td>\n",
       "      <td>nao</td>\n",
       "      <td>38.800000</td>\n",
       "      <td>38.844792</td>\n",
       "      <td>buy</td>\n",
       "      <td>39.427507</td>\n",
       "      <td>256278.79</td>\n",
       "    </tr>\n",
       "    <tr>\n",
       "      <th>7</th>\n",
       "      <td>3810000202</td>\n",
       "      <td>2014-09-05</td>\n",
       "      <td>251700.0</td>\n",
       "      <td>3</td>\n",
       "      <td>2.25</td>\n",
       "      <td>1810</td>\n",
       "      <td>11800</td>\n",
       "      <td>1.0</td>\n",
       "      <td>0</td>\n",
       "      <td>0</td>\n",
       "      <td>...</td>\n",
       "      <td>2014</td>\n",
       "      <td>9</td>\n",
       "      <td>low_level</td>\n",
       "      <td>fall</td>\n",
       "      <td>sim</td>\n",
       "      <td>21.330508</td>\n",
       "      <td>38.844792</td>\n",
       "      <td>buy</td>\n",
       "      <td>39.427507</td>\n",
       "      <td>604817.95</td>\n",
       "    </tr>\n",
       "    <tr>\n",
       "      <th>8</th>\n",
       "      <td>4058802105</td>\n",
       "      <td>2014-09-04</td>\n",
       "      <td>150000.0</td>\n",
       "      <td>3</td>\n",
       "      <td>1.00</td>\n",
       "      <td>1450</td>\n",
       "      <td>6776</td>\n",
       "      <td>1.0</td>\n",
       "      <td>0</td>\n",
       "      <td>0</td>\n",
       "      <td>...</td>\n",
       "      <td>2014</td>\n",
       "      <td>9</td>\n",
       "      <td>low_level</td>\n",
       "      <td>fall</td>\n",
       "      <td>nao</td>\n",
       "      <td>22.136954</td>\n",
       "      <td>38.844792</td>\n",
       "      <td>buy</td>\n",
       "      <td>39.427507</td>\n",
       "      <td>347309.02</td>\n",
       "    </tr>\n",
       "    <tr>\n",
       "      <th>9</th>\n",
       "      <td>7878400135</td>\n",
       "      <td>2014-11-20</td>\n",
       "      <td>355000.0</td>\n",
       "      <td>3</td>\n",
       "      <td>2.25</td>\n",
       "      <td>2550</td>\n",
       "      <td>9674</td>\n",
       "      <td>1.0</td>\n",
       "      <td>0</td>\n",
       "      <td>0</td>\n",
       "      <td>...</td>\n",
       "      <td>2014</td>\n",
       "      <td>11</td>\n",
       "      <td>low_level</td>\n",
       "      <td>fall</td>\n",
       "      <td>sim</td>\n",
       "      <td>36.696299</td>\n",
       "      <td>38.844792</td>\n",
       "      <td>buy</td>\n",
       "      <td>39.427507</td>\n",
       "      <td>495848.21</td>\n",
       "    </tr>\n",
       "    <tr>\n",
       "      <th>...</th>\n",
       "      <td>...</td>\n",
       "      <td>...</td>\n",
       "      <td>...</td>\n",
       "      <td>...</td>\n",
       "      <td>...</td>\n",
       "      <td>...</td>\n",
       "      <td>...</td>\n",
       "      <td>...</td>\n",
       "      <td>...</td>\n",
       "      <td>...</td>\n",
       "      <td>...</td>\n",
       "      <td>...</td>\n",
       "      <td>...</td>\n",
       "      <td>...</td>\n",
       "      <td>...</td>\n",
       "      <td>...</td>\n",
       "      <td>...</td>\n",
       "      <td>...</td>\n",
       "      <td>...</td>\n",
       "      <td>...</td>\n",
       "      <td>...</td>\n",
       "    </tr>\n",
       "    <tr>\n",
       "      <th>21428</th>\n",
       "      <td>3262301355</td>\n",
       "      <td>2014-07-25</td>\n",
       "      <td>1320000.0</td>\n",
       "      <td>3</td>\n",
       "      <td>2.75</td>\n",
       "      <td>2680</td>\n",
       "      <td>20104</td>\n",
       "      <td>1.0</td>\n",
       "      <td>0</td>\n",
       "      <td>0</td>\n",
       "      <td>...</td>\n",
       "      <td>2014</td>\n",
       "      <td>7</td>\n",
       "      <td>high_level</td>\n",
       "      <td>summer</td>\n",
       "      <td>sim</td>\n",
       "      <td>65.658575</td>\n",
       "      <td>115.777805</td>\n",
       "      <td>buy</td>\n",
       "      <td>94.358870</td>\n",
       "      <td>2466087.94</td>\n",
       "    </tr>\n",
       "    <tr>\n",
       "      <th>21429</th>\n",
       "      <td>5427110040</td>\n",
       "      <td>2014-06-09</td>\n",
       "      <td>1225000.0</td>\n",
       "      <td>4</td>\n",
       "      <td>2.50</td>\n",
       "      <td>2740</td>\n",
       "      <td>16007</td>\n",
       "      <td>2.0</td>\n",
       "      <td>0</td>\n",
       "      <td>0</td>\n",
       "      <td>...</td>\n",
       "      <td>2014</td>\n",
       "      <td>6</td>\n",
       "      <td>high_level</td>\n",
       "      <td>summer</td>\n",
       "      <td>nao</td>\n",
       "      <td>76.529019</td>\n",
       "      <td>115.777805</td>\n",
       "      <td>buy</td>\n",
       "      <td>94.358870</td>\n",
       "      <td>1963523.16</td>\n",
       "    </tr>\n",
       "    <tr>\n",
       "      <th>21433</th>\n",
       "      <td>5427100150</td>\n",
       "      <td>2014-06-26</td>\n",
       "      <td>1410000.0</td>\n",
       "      <td>4</td>\n",
       "      <td>2.25</td>\n",
       "      <td>3250</td>\n",
       "      <td>16684</td>\n",
       "      <td>2.0</td>\n",
       "      <td>0</td>\n",
       "      <td>0</td>\n",
       "      <td>...</td>\n",
       "      <td>2014</td>\n",
       "      <td>6</td>\n",
       "      <td>high_level</td>\n",
       "      <td>summer</td>\n",
       "      <td>nao</td>\n",
       "      <td>84.512107</td>\n",
       "      <td>115.777805</td>\n",
       "      <td>buy</td>\n",
       "      <td>94.358870</td>\n",
       "      <td>2046568.40</td>\n",
       "    </tr>\n",
       "    <tr>\n",
       "      <th>21434</th>\n",
       "      <td>2425049066</td>\n",
       "      <td>2014-06-16</td>\n",
       "      <td>1920000.0</td>\n",
       "      <td>4</td>\n",
       "      <td>2.50</td>\n",
       "      <td>3070</td>\n",
       "      <td>34412</td>\n",
       "      <td>1.0</td>\n",
       "      <td>0</td>\n",
       "      <td>3</td>\n",
       "      <td>...</td>\n",
       "      <td>2014</td>\n",
       "      <td>6</td>\n",
       "      <td>high_level</td>\n",
       "      <td>summer</td>\n",
       "      <td>sim</td>\n",
       "      <td>55.794490</td>\n",
       "      <td>115.777805</td>\n",
       "      <td>buy</td>\n",
       "      <td>94.358870</td>\n",
       "      <td>4221200.66</td>\n",
       "    </tr>\n",
       "    <tr>\n",
       "      <th>21435</th>\n",
       "      <td>2525049113</td>\n",
       "      <td>2014-07-25</td>\n",
       "      <td>1950000.0</td>\n",
       "      <td>4</td>\n",
       "      <td>3.50</td>\n",
       "      <td>4065</td>\n",
       "      <td>18713</td>\n",
       "      <td>2.0</td>\n",
       "      <td>0</td>\n",
       "      <td>0</td>\n",
       "      <td>...</td>\n",
       "      <td>2014</td>\n",
       "      <td>7</td>\n",
       "      <td>high_level</td>\n",
       "      <td>summer</td>\n",
       "      <td>nao</td>\n",
       "      <td>104.205632</td>\n",
       "      <td>115.777805</td>\n",
       "      <td>buy</td>\n",
       "      <td>94.358870</td>\n",
       "      <td>1942311.29</td>\n",
       "    </tr>\n",
       "  </tbody>\n",
       "</table>\n",
       "<p>10538 rows × 29 columns</p>\n",
       "</div>"
      ],
      "text/plain": [
       "               id       date      price  bedrooms  bathrooms  sqft_living  \\\n",
       "2      1180003090 2014-09-06   190000.0         2       1.00          630   \n",
       "6       179000350 2014-11-05   194000.0         3       1.50         1010   \n",
       "7      3810000202 2014-09-05   251700.0         3       2.25         1810   \n",
       "8      4058802105 2014-09-04   150000.0         3       1.00         1450   \n",
       "9      7878400135 2014-11-20   355000.0         3       2.25         2550   \n",
       "...           ...        ...        ...       ...        ...          ...   \n",
       "21428  3262301355 2014-07-25  1320000.0         3       2.75         2680   \n",
       "21429  5427110040 2014-06-09  1225000.0         4       2.50         2740   \n",
       "21433  5427100150 2014-06-26  1410000.0         4       2.25         3250   \n",
       "21434  2425049066 2014-06-16  1920000.0         4       2.50         3070   \n",
       "21435  2525049113 2014-07-25  1950000.0         4       3.50         4065   \n",
       "\n",
       "       sqft_lot  floors  waterfront  view  ...  year  month       level  \\\n",
       "2          6000     1.0           0     0  ...  2014      9   low_level   \n",
       "6          5000     1.0           0     0  ...  2014     11   low_level   \n",
       "7         11800     1.0           0     0  ...  2014      9   low_level   \n",
       "8          6776     1.0           0     0  ...  2014      9   low_level   \n",
       "9          9674     1.0           0     0  ...  2014     11   low_level   \n",
       "...         ...     ...         ...   ...  ...   ...    ...         ...   \n",
       "21428     20104     1.0           0     0  ...  2014      7  high_level   \n",
       "21429     16007     2.0           0     0  ...  2014      6  high_level   \n",
       "21433     16684     2.0           0     0  ...  2014      6  high_level   \n",
       "21434     34412     1.0           0     3  ...  2014      6  high_level   \n",
       "21435     18713     2.0           0     0  ...  2014      7  high_level   \n",
       "\n",
       "       season basement  sqrt_price  price_zipcode  to_buy  price_to_sell  \\\n",
       "2        fall      nao   31.666667      38.844792     buy      39.427507   \n",
       "6        fall      nao   38.800000      38.844792     buy      39.427507   \n",
       "7        fall      sim   21.330508      38.844792     buy      39.427507   \n",
       "8        fall      nao   22.136954      38.844792     buy      39.427507   \n",
       "9        fall      sim   36.696299      38.844792     buy      39.427507   \n",
       "...       ...      ...         ...            ...     ...            ...   \n",
       "21428  summer      sim   65.658575     115.777805     buy      94.358870   \n",
       "21429  summer      nao   76.529019     115.777805     buy      94.358870   \n",
       "21433  summer      nao   84.512107     115.777805     buy      94.358870   \n",
       "21434  summer      sim   55.794490     115.777805     buy      94.358870   \n",
       "21435  summer      nao  104.205632     115.777805     buy      94.358870   \n",
       "\n",
       "       season_to_sell  \n",
       "2           307534.55  \n",
       "6           256278.79  \n",
       "7           604817.95  \n",
       "8           347309.02  \n",
       "9           495848.21  \n",
       "...               ...  \n",
       "21428      2466087.94  \n",
       "21429      1963523.16  \n",
       "21433      2046568.40  \n",
       "21434      4221200.66  \n",
       "21435      1942311.29  \n",
       "\n",
       "[10538 rows x 29 columns]"
      ]
     },
     "execution_count": 129,
     "metadata": {},
     "output_type": "execute_result"
    }
   ],
   "source": [
    "df2[df2['to_buy']=='buy']"
   ]
  },
  {
   "cell_type": "code",
   "execution_count": 130,
   "id": "01379025",
   "metadata": {
    "ExecuteTime": {
     "end_time": "2022-11-14T16:34:56.954970Z",
     "start_time": "2022-11-14T16:34:56.941008Z"
    }
   },
   "outputs": [],
   "source": [
    "df2['new_price'] = np.round(df2['price_to_sell']* df2['sqft_lot'],2)"
   ]
  },
  {
   "cell_type": "code",
   "execution_count": 131,
   "id": "40bd1906",
   "metadata": {
    "ExecuteTime": {
     "end_time": "2022-11-14T16:34:56.970962Z",
     "start_time": "2022-11-14T16:34:56.955969Z"
    }
   },
   "outputs": [],
   "source": [
    "df2['profit']=df2['season_to_sell'] - df2['new_price']"
   ]
  },
  {
   "cell_type": "code",
   "execution_count": 132,
   "id": "6d26e409",
   "metadata": {
    "ExecuteTime": {
     "end_time": "2022-11-14T16:34:56.986856Z",
     "start_time": "2022-11-14T16:34:56.971926Z"
    },
    "scrolled": false
   },
   "outputs": [
    {
     "data": {
      "text/plain": [
       "0        2014\n",
       "1        2014\n",
       "2        2014\n",
       "3        2014\n",
       "4        2014\n",
       "         ... \n",
       "21431    2014\n",
       "21432    2014\n",
       "21433    2014\n",
       "21434    2014\n",
       "21435    2014\n",
       "Name: year, Length: 21436, dtype: int64"
      ]
     },
     "execution_count": 132,
     "metadata": {},
     "output_type": "execute_result"
    }
   ],
   "source": [
    "df2['year']"
   ]
  },
  {
   "cell_type": "code",
   "execution_count": 133,
   "id": "0f637bf4",
   "metadata": {
    "ExecuteTime": {
     "end_time": "2022-11-14T16:34:57.002848Z",
     "start_time": "2022-11-14T16:34:56.987858Z"
    }
   },
   "outputs": [
    {
     "data": {
      "text/plain": [
       "3492823431.53"
      ]
     },
     "execution_count": 133,
     "metadata": {},
     "output_type": "execute_result"
    }
   ],
   "source": [
    "df2[df2['to_buy']=='buy']['profit'].sum()"
   ]
  },
  {
   "cell_type": "markdown",
   "id": "b969818b",
   "metadata": {},
   "source": [
    "- Se o CEO comprar todos os imóveis nas condições de \"buy\" ele terá um lucro de 3492823431.53."
   ]
  },
  {
   "cell_type": "code",
   "execution_count": 134,
   "id": "a108c18c",
   "metadata": {
    "ExecuteTime": {
     "end_time": "2022-11-14T16:34:57.018776Z",
     "start_time": "2022-11-14T16:34:57.004812Z"
    }
   },
   "outputs": [
    {
     "data": {
      "text/html": [
       "<div>\n",
       "<style scoped>\n",
       "    .dataframe tbody tr th:only-of-type {\n",
       "        vertical-align: middle;\n",
       "    }\n",
       "\n",
       "    .dataframe tbody tr th {\n",
       "        vertical-align: top;\n",
       "    }\n",
       "\n",
       "    .dataframe thead th {\n",
       "        text-align: right;\n",
       "    }\n",
       "</style>\n",
       "<table border=\"1\" class=\"dataframe\">\n",
       "  <thead>\n",
       "    <tr style=\"text-align: right;\">\n",
       "      <th></th>\n",
       "      <th>id</th>\n",
       "      <th>profit</th>\n",
       "    </tr>\n",
       "  </thead>\n",
       "  <tbody>\n",
       "    <tr>\n",
       "      <th>17404</th>\n",
       "      <td>2624089007</td>\n",
       "      <td>25845477.84</td>\n",
       "    </tr>\n",
       "    <tr>\n",
       "      <th>8467</th>\n",
       "      <td>2623069031</td>\n",
       "      <td>16459860.70</td>\n",
       "    </tr>\n",
       "    <tr>\n",
       "      <th>18807</th>\n",
       "      <td>1020069017</td>\n",
       "      <td>11917307.45</td>\n",
       "    </tr>\n",
       "    <tr>\n",
       "      <th>1985</th>\n",
       "      <td>125069038</td>\n",
       "      <td>11025789.47</td>\n",
       "    </tr>\n",
       "    <tr>\n",
       "      <th>17654</th>\n",
       "      <td>3624079067</td>\n",
       "      <td>10998775.85</td>\n",
       "    </tr>\n",
       "    <tr>\n",
       "      <th>...</th>\n",
       "      <td>...</td>\n",
       "      <td>...</td>\n",
       "    </tr>\n",
       "    <tr>\n",
       "      <th>20293</th>\n",
       "      <td>1773101159</td>\n",
       "      <td>3716.87</td>\n",
       "    </tr>\n",
       "    <tr>\n",
       "      <th>8577</th>\n",
       "      <td>8562780280</td>\n",
       "      <td>3677.43</td>\n",
       "    </tr>\n",
       "    <tr>\n",
       "      <th>8568</th>\n",
       "      <td>8562780540</td>\n",
       "      <td>3631.46</td>\n",
       "    </tr>\n",
       "    <tr>\n",
       "      <th>8573</th>\n",
       "      <td>8562780430</td>\n",
       "      <td>3565.07</td>\n",
       "    </tr>\n",
       "    <tr>\n",
       "      <th>8551</th>\n",
       "      <td>8562780490</td>\n",
       "      <td>3488.46</td>\n",
       "    </tr>\n",
       "  </tbody>\n",
       "</table>\n",
       "<p>21436 rows × 2 columns</p>\n",
       "</div>"
      ],
      "text/plain": [
       "               id       profit\n",
       "17404  2624089007  25845477.84\n",
       "8467   2623069031  16459860.70\n",
       "18807  1020069017  11917307.45\n",
       "1985    125069038  11025789.47\n",
       "17654  3624079067  10998775.85\n",
       "...           ...          ...\n",
       "20293  1773101159      3716.87\n",
       "8577   8562780280      3677.43\n",
       "8568   8562780540      3631.46\n",
       "8573   8562780430      3565.07\n",
       "8551   8562780490      3488.46\n",
       "\n",
       "[21436 rows x 2 columns]"
      ]
     },
     "execution_count": 134,
     "metadata": {},
     "output_type": "execute_result"
    }
   ],
   "source": [
    "df2[['id','profit']].sort_values('profit', ascending=False)"
   ]
  },
  {
   "cell_type": "code",
   "execution_count": 139,
   "id": "379a1baa",
   "metadata": {
    "ExecuteTime": {
     "end_time": "2022-11-14T17:03:49.045456Z",
     "start_time": "2022-11-14T17:03:49.039471Z"
    }
   },
   "outputs": [],
   "source": [
    "# Criando a coluna \"percentage_profit\"\n",
    "df2['percentage_profit']=np.round(df2['profit']/df2['price'],2)"
   ]
  }
 ],
 "metadata": {
  "kernelspec": {
   "display_name": "Python 3 (ipykernel)",
   "language": "python",
   "name": "python3"
  },
  "language_info": {
   "codemirror_mode": {
    "name": "ipython",
    "version": 3
   },
   "file_extension": ".py",
   "mimetype": "text/x-python",
   "name": "python",
   "nbconvert_exporter": "python",
   "pygments_lexer": "ipython3",
   "version": "3.9.12"
  },
  "toc": {
   "base_numbering": 1,
   "nav_menu": {},
   "number_sections": true,
   "sideBar": true,
   "skip_h1_title": false,
   "title_cell": "Table of Contents",
   "title_sidebar": "Contents",
   "toc_cell": false,
   "toc_position": {},
   "toc_section_display": true,
   "toc_window_display": false
  }
 },
 "nbformat": 4,
 "nbformat_minor": 5
}
